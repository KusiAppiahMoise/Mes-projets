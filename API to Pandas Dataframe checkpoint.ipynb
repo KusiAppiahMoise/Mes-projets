{
 "cells": [
  {
   "cell_type": "code",
   "execution_count": 1,
   "id": "a0d1bd53-349b-4a13-afb0-b8139fc26de1",
   "metadata": {},
   "outputs": [],
   "source": [
    "api_key = \"Rz6DQx0dZCSnhMHR9efGxLzbZBPyUU4ll7WtKUNn\""
   ]
  },
  {
   "cell_type": "code",
   "execution_count": 2,
   "id": "4c0084f0-f304-49c2-93dd-a48cdc452526",
   "metadata": {},
   "outputs": [],
   "source": [
    "import requests\n",
    "import pandas as pd\n",
    "from IPython.display import Image\n",
    "\n",
    "reponse = requests.get(\"https://api.nasa.gov/planetary/apod?api_key=Rz6DQx0dZCSnhMHR9efGxLzbZBPyUU4ll7WtKUNn\")"
   ]
  },
  {
   "cell_type": "code",
   "execution_count": 3,
   "id": "d3a33ae8-aa72-4e3f-9bee-47dae19f9eec",
   "metadata": {},
   "outputs": [
    {
     "data": {
      "text/plain": [
       "{'copyright': 'Helge Buesing',\n",
       " 'date': '2024-02-23',\n",
       " 'explanation': \"This supernova shock wave plows through interstellar space at over 500,000 kilometers per hour. Centered and moving upward in the sharply detailed color composite its thin, bright, braided filaments are actually long ripples in a cosmic sheet of glowing gas seen almost edge-on. Discovered in the 1840s by Sir John Herschel, the narrow-looking nebula is sometimes known as Herschel's Ray. Cataloged as NGC 2736, its pointed appearance suggests its modern popular name, the Pencil Nebula. The Pencil Nebula is about 800 light-years away. Nearly 5 light-years long it represents only a small part of the Vela supernova remnant though. The enormous Vela remnant itself is around 100 light-years in diameter, the expanding debris cloud of a star that was seen to explode about 11,000 years ago. Initially, the section of the shock wave seen as the Pencil nebula was moving at millions of kilometers per hour but has slowed considerably, sweeping up surrounding interstellar material.\",\n",
       " 'hdurl': 'https://apod.nasa.gov/apod/image/2402/NGC2736_Helge_Buesing2048.jpg',\n",
       " 'media_type': 'image',\n",
       " 'service_version': 'v1',\n",
       " 'title': 'The Pencil Nebula Supernova Shock Wave',\n",
       " 'url': 'https://apod.nasa.gov/apod/image/2402/NGC2736_Helge_Buesing1024.jpg'}"
      ]
     },
     "execution_count": 3,
     "metadata": {},
     "output_type": "execute_result"
    }
   ],
   "source": [
    "file = reponse.json()\n",
    "file"
   ]
  },
  {
   "cell_type": "code",
   "execution_count": 4,
   "id": "21417a0a-b349-4bb3-b823-1d0ddaa9ff8a",
   "metadata": {},
   "outputs": [
    {
     "data": {
      "text/html": [
       "<img src=\"https://apod.nasa.gov/apod/image/2402/M106field_KyunghoonLim1024.jpg\"/>"
      ],
      "text/plain": [
       "<IPython.core.display.Image object>"
      ]
     },
     "execution_count": 4,
     "metadata": {},
     "output_type": "execute_result"
    }
   ],
   "source": [
    "Image(url='https://apod.nasa.gov/apod/image/2402/M106field_KyunghoonLim1024.jpg')"
   ]
  },
  {
   "cell_type": "code",
   "execution_count": 5,
   "id": "a0a6710b-7728-4028-9a4c-5ad735ed2138",
   "metadata": {},
   "outputs": [],
   "source": [
    "reponse_2 = requests.get('https://api.nasa.gov/neo/rest/v1/feed?start_date=2024-02-15&end_date=2024-02-22&api_key=Rz6DQx0dZCSnhMHR9efGxLzbZBPyUU4ll7WtKUNn')\n",
    "file_2 = reponse_2.json()"
   ]
  },
  {
   "cell_type": "code",
   "execution_count": 22,
   "id": "4edf1dba-f135-4b66-b31c-dc718d067517",
   "metadata": {},
   "outputs": [
    {
     "data": {
      "text/html": [
       "<div>\n",
       "<style scoped>\n",
       "    .dataframe tbody tr th:only-of-type {\n",
       "        vertical-align: middle;\n",
       "    }\n",
       "\n",
       "    .dataframe tbody tr th {\n",
       "        vertical-align: top;\n",
       "    }\n",
       "\n",
       "    .dataframe thead th {\n",
       "        text-align: right;\n",
       "    }\n",
       "</style>\n",
       "<table border=\"1\" class=\"dataframe\">\n",
       "  <thead>\n",
       "    <tr style=\"text-align: right;\">\n",
       "      <th></th>\n",
       "      <th>copyright</th>\n",
       "      <th>date</th>\n",
       "      <th>explanation</th>\n",
       "      <th>hdurl</th>\n",
       "      <th>media_type</th>\n",
       "      <th>service_version</th>\n",
       "      <th>title</th>\n",
       "      <th>url</th>\n",
       "    </tr>\n",
       "  </thead>\n",
       "  <tbody>\n",
       "    <tr>\n",
       "      <th>1</th>\n",
       "      <td>Helge Buesing</td>\n",
       "      <td>2024-02-23</td>\n",
       "      <td>This supernova shock wave plows through inters...</td>\n",
       "      <td>https://apod.nasa.gov/apod/image/2402/NGC2736_...</td>\n",
       "      <td>image</td>\n",
       "      <td>v1</td>\n",
       "      <td>The Pencil Nebula Supernova Shock Wave</td>\n",
       "      <td>https://apod.nasa.gov/apod/image/2402/NGC2736_...</td>\n",
       "    </tr>\n",
       "  </tbody>\n",
       "</table>\n",
       "</div>"
      ],
      "text/plain": [
       "       copyright        date  \\\n",
       "1  Helge Buesing  2024-02-23   \n",
       "\n",
       "                                         explanation  \\\n",
       "1  This supernova shock wave plows through inters...   \n",
       "\n",
       "                                               hdurl media_type  \\\n",
       "1  https://apod.nasa.gov/apod/image/2402/NGC2736_...      image   \n",
       "\n",
       "  service_version                                   title  \\\n",
       "1              v1  The Pencil Nebula Supernova Shock Wave   \n",
       "\n",
       "                                                 url  \n",
       "1  https://apod.nasa.gov/apod/image/2402/NGC2736_...  "
      ]
     },
     "execution_count": 22,
     "metadata": {},
     "output_type": "execute_result"
    }
   ],
   "source": [
    "df = pd.DataFrame(file, index=[1])\n",
    "df.head()"
   ]
  },
  {
   "cell_type": "code",
   "execution_count": null,
   "id": "d2da7d6b-42e8-4310-aa11-da831ce879f5",
   "metadata": {},
   "outputs": [],
   "source": []
  }
 ],
 "metadata": {
  "kernelspec": {
   "display_name": "Python 3 (ipykernel)",
   "language": "python",
   "name": "python3"
  },
  "language_info": {
   "codemirror_mode": {
    "name": "ipython",
    "version": 3
   },
   "file_extension": ".py",
   "mimetype": "text/x-python",
   "name": "python",
   "nbconvert_exporter": "python",
   "pygments_lexer": "ipython3",
   "version": "3.11.5"
  }
 },
 "nbformat": 4,
 "nbformat_minor": 5
}
